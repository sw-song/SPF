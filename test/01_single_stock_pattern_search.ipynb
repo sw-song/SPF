{
 "cells": [
  {
   "cell_type": "markdown",
   "metadata": {},
   "source": [
    "> 단일 종목(코스피)에 대한 '코사인 유사도' 기반 패턴 검색 구현"
   ]
  },
  {
   "cell_type": "markdown",
   "metadata": {},
   "source": [
    "```\n",
    "1. 라이브러리 호출 및 코스피 지수 추출\n",
    "2. 기준 구간 지정 및 시각화\n",
    "3. 패턴 검색기 구현\n",
    "4. 검색 구간 이후의 추세 확인\n",
    "```"
   ]
  },
  {
   "cell_type": "markdown",
   "metadata": {},
   "source": [
    "## 1. 라이브러리 호출 및 코스피 지수 추출"
   ]
  },
  {
   "cell_type": "code",
   "execution_count": 209,
   "metadata": {},
   "outputs": [],
   "source": [
    "import FinanceDataReader as fdr\n",
    "import matplotlib.pyplot as plt\n",
    "\n",
    "# 1차월 배열간 코사인 유사도 계산\n",
    "from scipy.spatial.distance import cosine"
   ]
  },
  {
   "cell_type": "code",
   "execution_count": 103,
   "metadata": {},
   "outputs": [],
   "source": [
    "# 코스피 지수 추출\n",
    "kospi = fdr.DataReader('KS11')"
   ]
  },
  {
   "cell_type": "code",
   "execution_count": 104,
   "metadata": {},
   "outputs": [
    {
     "data": {
      "text/html": [
       "<div>\n",
       "<style scoped>\n",
       "    .dataframe tbody tr th:only-of-type {\n",
       "        vertical-align: middle;\n",
       "    }\n",
       "\n",
       "    .dataframe tbody tr th {\n",
       "        vertical-align: top;\n",
       "    }\n",
       "\n",
       "    .dataframe thead th {\n",
       "        text-align: right;\n",
       "    }\n",
       "</style>\n",
       "<table border=\"1\" class=\"dataframe\">\n",
       "  <thead>\n",
       "    <tr style=\"text-align: right;\">\n",
       "      <th></th>\n",
       "      <th>Close</th>\n",
       "      <th>Open</th>\n",
       "      <th>High</th>\n",
       "      <th>Low</th>\n",
       "      <th>Volume</th>\n",
       "      <th>Change</th>\n",
       "    </tr>\n",
       "    <tr>\n",
       "      <th>Date</th>\n",
       "      <th></th>\n",
       "      <th></th>\n",
       "      <th></th>\n",
       "      <th></th>\n",
       "      <th></th>\n",
       "      <th></th>\n",
       "    </tr>\n",
       "  </thead>\n",
       "  <tbody>\n",
       "    <tr>\n",
       "      <th>1981-05-01</th>\n",
       "      <td>123.60</td>\n",
       "      <td>123.60</td>\n",
       "      <td>123.60</td>\n",
       "      <td>123.60</td>\n",
       "      <td>3330000.0</td>\n",
       "      <td>0.0098</td>\n",
       "    </tr>\n",
       "    <tr>\n",
       "      <th>1981-05-02</th>\n",
       "      <td>123.50</td>\n",
       "      <td>123.50</td>\n",
       "      <td>123.50</td>\n",
       "      <td>123.50</td>\n",
       "      <td>2040000.0</td>\n",
       "      <td>-0.0008</td>\n",
       "    </tr>\n",
       "    <tr>\n",
       "      <th>1981-05-04</th>\n",
       "      <td>120.60</td>\n",
       "      <td>120.60</td>\n",
       "      <td>120.60</td>\n",
       "      <td>120.60</td>\n",
       "      <td>1930000.0</td>\n",
       "      <td>-0.0235</td>\n",
       "    </tr>\n",
       "    <tr>\n",
       "      <th>1981-05-06</th>\n",
       "      <td>120.70</td>\n",
       "      <td>120.70</td>\n",
       "      <td>120.70</td>\n",
       "      <td>120.70</td>\n",
       "      <td>1690000.0</td>\n",
       "      <td>0.0008</td>\n",
       "    </tr>\n",
       "    <tr>\n",
       "      <th>1981-05-07</th>\n",
       "      <td>119.30</td>\n",
       "      <td>119.30</td>\n",
       "      <td>119.30</td>\n",
       "      <td>119.30</td>\n",
       "      <td>1480000.0</td>\n",
       "      <td>-0.0116</td>\n",
       "    </tr>\n",
       "    <tr>\n",
       "      <th>...</th>\n",
       "      <td>...</td>\n",
       "      <td>...</td>\n",
       "      <td>...</td>\n",
       "      <td>...</td>\n",
       "      <td>...</td>\n",
       "      <td>...</td>\n",
       "    </tr>\n",
       "    <tr>\n",
       "      <th>2021-09-10</th>\n",
       "      <td>3125.76</td>\n",
       "      <td>3121.09</td>\n",
       "      <td>3131.54</td>\n",
       "      <td>3103.38</td>\n",
       "      <td>723080000.0</td>\n",
       "      <td>0.0036</td>\n",
       "    </tr>\n",
       "    <tr>\n",
       "      <th>2021-09-13</th>\n",
       "      <td>3127.86</td>\n",
       "      <td>3117.35</td>\n",
       "      <td>3139.13</td>\n",
       "      <td>3109.01</td>\n",
       "      <td>732270000.0</td>\n",
       "      <td>0.0007</td>\n",
       "    </tr>\n",
       "    <tr>\n",
       "      <th>2021-09-14</th>\n",
       "      <td>3148.83</td>\n",
       "      <td>3137.32</td>\n",
       "      <td>3164.31</td>\n",
       "      <td>3137.32</td>\n",
       "      <td>713230000.0</td>\n",
       "      <td>0.0067</td>\n",
       "    </tr>\n",
       "    <tr>\n",
       "      <th>2021-09-15</th>\n",
       "      <td>3153.40</td>\n",
       "      <td>3147.21</td>\n",
       "      <td>3164.01</td>\n",
       "      <td>3138.80</td>\n",
       "      <td>616560000.0</td>\n",
       "      <td>0.0015</td>\n",
       "    </tr>\n",
       "    <tr>\n",
       "      <th>2021-09-16</th>\n",
       "      <td>3130.09</td>\n",
       "      <td>3165.38</td>\n",
       "      <td>3167.68</td>\n",
       "      <td>3126.65</td>\n",
       "      <td>604460.0</td>\n",
       "      <td>-0.0074</td>\n",
       "    </tr>\n",
       "  </tbody>\n",
       "</table>\n",
       "<p>10790 rows × 6 columns</p>\n",
       "</div>"
      ],
      "text/plain": [
       "              Close     Open     High      Low       Volume  Change\n",
       "Date                                                               \n",
       "1981-05-01   123.60   123.60   123.60   123.60    3330000.0  0.0098\n",
       "1981-05-02   123.50   123.50   123.50   123.50    2040000.0 -0.0008\n",
       "1981-05-04   120.60   120.60   120.60   120.60    1930000.0 -0.0235\n",
       "1981-05-06   120.70   120.70   120.70   120.70    1690000.0  0.0008\n",
       "1981-05-07   119.30   119.30   119.30   119.30    1480000.0 -0.0116\n",
       "...             ...      ...      ...      ...          ...     ...\n",
       "2021-09-10  3125.76  3121.09  3131.54  3103.38  723080000.0  0.0036\n",
       "2021-09-13  3127.86  3117.35  3139.13  3109.01  732270000.0  0.0007\n",
       "2021-09-14  3148.83  3137.32  3164.31  3137.32  713230000.0  0.0067\n",
       "2021-09-15  3153.40  3147.21  3164.01  3138.80  616560000.0  0.0015\n",
       "2021-09-16  3130.09  3165.38  3167.68  3126.65     604460.0 -0.0074\n",
       "\n",
       "[10790 rows x 6 columns]"
      ]
     },
     "execution_count": 104,
     "metadata": {},
     "output_type": "execute_result"
    }
   ],
   "source": [
    "kospi"
   ]
  },
  {
   "cell_type": "markdown",
   "metadata": {},
   "source": [
    "## 2. 기준 구간 지정 및 시각화"
   ]
  },
  {
   "cell_type": "code",
   "execution_count": 109,
   "metadata": {},
   "outputs": [
    {
     "data": {
      "text/plain": [
       "Date\n",
       "2021-09-01    3207.02\n",
       "2021-09-02    3175.85\n",
       "2021-09-03    3201.06\n",
       "2021-09-06    3203.33\n",
       "2021-09-07    3187.42\n",
       "2021-09-08    3162.99\n",
       "2021-09-09    3114.70\n",
       "2021-09-10    3125.76\n",
       "2021-09-13    3127.86\n",
       "2021-09-14    3148.83\n",
       "2021-09-15    3153.40\n",
       "2021-09-16    3130.09\n",
       "Name: Close, dtype: float64"
      ]
     },
     "execution_count": 109,
     "metadata": {},
     "output_type": "execute_result"
    }
   ],
   "source": [
    "# 기준 기간 종가\n",
    "kospi_close[d_start:d_end]"
   ]
  },
  {
   "cell_type": "code",
   "execution_count": 210,
   "metadata": {},
   "outputs": [],
   "source": [
    "# 종가만 추출\n",
    "kospi_close = kospi['Close']\n",
    "\n",
    "# 비교 기준 구간\n",
    "d_start = '2021-09-01'\n",
    "d_end = '2021-09-16'"
   ]
  },
  {
   "cell_type": "code",
   "execution_count": 211,
   "metadata": {},
   "outputs": [
    {
     "data": {
      "image/png": "[encoded data removed]",
      "text/plain": [
       "<Figure size 432x288 with 1 Axes>"
      ]
     },
     "metadata": {},
     "output_type": "display_data"
    }
   ],
   "source": [
    "# 기준 구간 시계열 차트\n",
    "kospi_close[d_start:d_end].plot();"
   ]
  },
  {
   "cell_type": "markdown",
   "metadata": {},
   "source": [
    "## 3. 패턴 검색기 구현"
   ]
  },
  {
   "cell_type": "code",
   "execution_count": 201,
   "metadata": {},
   "outputs": [],
   "source": [
    "count = 0\n",
    "compare_base_r = kospi_close[d_start:d_end]\n",
    "# series에서 값만 추출\n",
    "compare_base = compare_base_r.values\n",
    "# 표준화\n",
    "compare_base_norm = (compare_base - compare_base.mean()) / compare_base.std()\n",
    "# array -> 1차원 리스트로 변환\n",
    "compare_base_norm = list(compare_base_norm)\n",
    "\n",
    "# 검색 기간\n",
    "window_size = len(compare_base_norm)\n",
    "# 검색 기간에 더해서 추가로 보여줄 기간\n",
    "next_date = 5\n",
    "# 검색 횟수\n",
    "moving_cnt = len(kospi_close) - (window_size-1) - next_date\n",
    "\n",
    "# 유사도 저장 딕셔너리\n",
    "sim_dict = {}\n",
    "\n",
    "for i in range(moving_cnt):\n",
    "    compare_target_r = kospi_close[i:i+window_size]\n",
    "    # series에서 값만 추출\n",
    "    compare_target = compare_target_r.values\n",
    "    # 표준화\n",
    "    compare_target_norm = (compare_target - compare_target.mean()) / compare_target.std() \n",
    "    # array -> 1차원 리스트로 변환\n",
    "    compare_target_norm = list(compare_target_norm)\n",
    "\n",
    "    # 코사인 유사도 저장\n",
    "    sim = cosine(compare_base_norm, compare_target_norm)\n",
    "    # 코사인 유사도 <- i(인덱스), 시계열데이터 함께 저장\n",
    "    sim_dict[sim] = [i,compare_target_r]"
   ]
  },
  {
   "cell_type": "code",
   "execution_count": 203,
   "metadata": {},
   "outputs": [
    {
     "data": {
      "text/plain": [
       "[2689,\n",
       " Date\n",
       " 1990-07-06    716.17\n",
       " 1990-07-07    713.41\n",
       " 1990-07-09    715.28\n",
       " 1990-07-10    718.75\n",
       " 1990-07-11    711.00\n",
       " 1990-07-12    701.91\n",
       " 1990-07-13    688.78\n",
       " 1990-07-14    689.19\n",
       " 1990-07-16    683.01\n",
       " 1990-07-18    698.01\n",
       " 1990-07-19    693.44\n",
       " 1990-07-20    694.64\n",
       " Name: Close, dtype: float64]"
      ]
     },
     "execution_count": 203,
     "metadata": {},
     "output_type": "execute_result"
    }
   ],
   "source": [
    "# 최소 코사인 유사도\n",
    "min_sim = min(list(sim_dict.keys()))\n",
    "# 최소 코사인 유사도가 나온 인덱스, 기간 추출\n",
    "sim_dict[min_sim]"
   ]
  },
  {
   "cell_type": "code",
   "execution_count": 223,
   "metadata": {},
   "outputs": [
    {
     "data": {
      "text/plain": [
       "[1.4339539201757012,\n",
       " 0.45149073936036144,\n",
       " 1.2460976302283338,\n",
       " 1.3176469218693603,\n",
       " 0.8161714901474522,\n",
       " 0.04614981843365735,\n",
       " -1.4759274033043155,\n",
       " -1.1273216035026465,\n",
       " -1.0611306288567652,\n",
       " -0.400166467750014,\n",
       " -0.25612229911587053,\n",
       " -0.9908421176851828]"
      ]
     },
     "execution_count": 223,
     "metadata": {},
     "output_type": "execute_result"
    }
   ],
   "source": [
    "# 표준화된 기준 구간 데이터 \n",
    "compare_base_norm"
   ]
  },
  {
   "cell_type": "code",
   "execution_count": 224,
   "metadata": {},
   "outputs": [
    {
     "data": {
      "text/plain": [
       "[1.1892892589786803,\n",
       " 0.9581994364068187,\n",
       " 1.1147711640189142,\n",
       " 1.4053080061654246,\n",
       " 0.7564144826393618,\n",
       " -0.004674824309274292,\n",
       " -1.1040260454573,\n",
       " -1.06969748485785,\n",
       " -1.5871377397470252,\n",
       " -0.33121479098690393,\n",
       " -0.7138526493758155,\n",
       " -0.6133788134750116]"
      ]
     },
     "execution_count": 224,
     "metadata": {},
     "output_type": "execute_result"
    }
   ],
   "source": [
    "# 검색 구간 데이터 -> 값만 추출\n",
    "compare_target = compare_target_r.values\n",
    "# 검색 구간 데이터 표준화\n",
    "compare_target_norm = (compare_target - compare_target.mean())/compare_target.std()\n",
    "compare_target_norm = list(compare_target_norm)\n",
    "\n",
    "# 표준화된 검색 구간 데이터\n",
    "compare_target_norm"
   ]
  },
  {
   "cell_type": "code",
   "execution_count": 227,
   "metadata": {},
   "outputs": [
    {
     "data": {
      "image/png": "[encoded data removed]",
      "text/plain": [
       "<Figure size 432x288 with 1 Axes>"
      ]
     },
     "metadata": {},
     "output_type": "display_data"
    }
   ],
   "source": [
    "plt.plot(compare_base_norm, label='base')\n",
    "plt.plot(compare_target_norm, label='target')\n",
    "plt.legend()\n",
    "plt.show()"
   ]
  },
  {
   "cell_type": "markdown",
   "metadata": {},
   "source": [
    "## 4. 검색 구간 이후의 추세 확인"
   ]
  },
  {
   "cell_type": "code",
   "execution_count": 204,
   "metadata": {},
   "outputs": [
    {
     "data": {
      "image/png": "[encoded data removed]",
      "text/plain": [
       "<Figure size 864x288 with 1 Axes>"
      ]
     },
     "metadata": {},
     "output_type": "display_data"
    }
   ],
   "source": [
    "# 반복문 인덱스 복원\n",
    "idx = sim_dict[min_sim][0]\n",
    "# 반복문 타겟 구간 시계열 데이터 복원\n",
    "compare_target_r = sim_dict[min_sim][1]\n",
    "\n",
    "plt.figure(figsize=(12,4))\n",
    "expanded_target_r = kospi_close[idx:idx+window_size+next_date]\n",
    "expanded_target_r.plot()\n",
    "plt.axvspan(compare_target_r.index[-1], expanded_target_r.index[-1], facecolor='gray', alpha=0.5)\n",
    "plt.axvline(x=compare_target_r.index[-1], c='r', linestyle='--')\n",
    "plt.xticks(rotation=90)\n",
    "plt.show()"
   ]
  }
 ],
 "metadata": {
  "interpreter": {
   "hash": "88212c6b79be9b544bafe6735d74fe8c206b1cc2a4f62e98b323686df1ed5be2"
  },
  "kernelspec": {
   "display_name": "Python 3",
   "language": "python",
   "name": "python3"
  },
  "language_info": {
   "codemirror_mode": {
    "name": "ipython",
    "version": 3
   },
   "file_extension": ".py",
   "mimetype": "text/x-python",
   "name": "python",
   "nbconvert_exporter": "python",
   "pygments_lexer": "ipython3",
   "version": "3.7.7"
  }
 },
 "nbformat": 4,
 "nbformat_minor": 4
}
